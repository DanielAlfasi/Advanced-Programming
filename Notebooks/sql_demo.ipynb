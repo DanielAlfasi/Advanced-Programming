{
 "cells": [
  {
   "cell_type": "markdown",
   "metadata": {
    "pycharm": {
     "name": "#%% md\n"
    }
   },
   "source": [
    "### SQL Demo\n",
    "Adapted from: https://docs.python.org/3/library/sqlite3.html"
   ]
  },
  {
   "cell_type": "code",
   "execution_count": 4,
   "metadata": {
    "pycharm": {
     "name": "#%%\n"
    }
   },
   "outputs": [],
   "source": [
    "import sqlite3\n",
    "\n",
    "conn = sqlite3.connect('example.db')"
   ]
  },
  {
   "cell_type": "code",
   "execution_count": 5,
   "metadata": {
    "pycharm": {
     "name": "#%%\n"
    }
   },
   "outputs": [],
   "source": [
    "c = conn.cursor()\n",
    "\n",
    "# We want to start clean. Delete table if exists.\n",
    "c.execute('DROP TABLE IF EXISTS stocks')\n",
    "\n",
    "# Create table\n",
    "c.execute('CREATE TABLE stocks (date text, trans text, symbol text, qty real, price real)')\n",
    "\n",
    "# Insert a row of data\n",
    "c.execute(\"INSERT INTO stocks VALUES ('2006-01-05', 'BUY', 'RHAT', 100, 35.14)\")\n",
    "\n",
    "# Save (commit) the changes\n",
    "conn.commit()\n",
    "\n",
    "# We can also close the connection if we are done with it.\n",
    "# Just be sure any changes have been committed or they will be lost.\n",
    "conn.close()"
   ]
  },
  {
   "cell_type": "code",
   "execution_count": 6,
   "metadata": {
    "pycharm": {
     "name": "#%%\n"
    }
   },
   "outputs": [
    {
     "name": "stdout",
     "output_type": "stream",
     "text": [
      "[('2006-01-05', 'BUY', 'RHAT', 100.0, 35.14)]\n"
     ]
    }
   ],
   "source": [
    "# Check that the data is still there\n",
    "conn = sqlite3.connect('example.db')\n",
    "c = conn.cursor()\n",
    "c.execute(\"SELECT * FROM stocks\")\n",
    "print(c.fetchall())"
   ]
  },
  {
   "cell_type": "code",
   "execution_count": 7,
   "metadata": {},
   "outputs": [
    {
     "name": "stdout",
     "output_type": "stream",
     "text": [
      "[('2006-01-05', 'BUY', 'RHAT', 100.0, 35.14)]\n"
     ]
    }
   ],
   "source": [
    "# We can use WHERE to select specific tuples\n",
    "c.execute(\"SELECT * FROM stocks WHERE symbol = 'RHAT'\")\n",
    "print(c.fetchall())"
   ]
  },
  {
   "cell_type": "code",
   "execution_count": 8,
   "metadata": {
    "pycharm": {
     "name": "#%%\n"
    }
   },
   "outputs": [
    {
     "name": "stdout",
     "output_type": "stream",
     "text": [
      "[('2006-01-05', 'BUY', 'RHAT', 100.0, 35.14)]\n"
     ]
    }
   ],
   "source": [
    "# Never do this -- insecure!\n",
    "symbol = input()\n",
    "c.execute(f\"SELECT * FROM stocks WHERE symbol = '{symbol}'\")\n",
    "print(c.fetchall())\n",
    "\n",
    "# We'll come back to this later."
   ]
  },
  {
   "cell_type": "code",
   "execution_count": 9,
   "metadata": {
    "pycharm": {
     "name": "#%%\n"
    }
   },
   "outputs": [
    {
     "name": "stdout",
     "output_type": "stream",
     "text": [
      "None\n"
     ]
    }
   ],
   "source": [
    "# Do this instead\n",
    "symbol = input()\n",
    "c.execute('SELECT * FROM stocks WHERE symbol=?', (symbol, ))\n",
    "print(c.fetchone())"
   ]
  },
  {
   "cell_type": "code",
   "execution_count": 10,
   "metadata": {
    "pycharm": {
     "name": "#%%\n"
    }
   },
   "outputs": [
    {
     "data": {
      "text/plain": [
       "<sqlite3.Cursor at 0x1062424c0>"
      ]
     },
     "execution_count": 10,
     "metadata": {},
     "output_type": "execute_result"
    }
   ],
   "source": [
    "# Larger example that inserts many records at a time\n",
    "purchases = [('2006-03-28', 'BUY', 'IBM', 1000, 45.00),\n",
    "             ('2006-04-05', 'BUY', 'MSFT', 1000, 72.00),\n",
    "             ('2006-04-06', 'SELL', 'IBM', 500, 53.00),\n",
    "            ]\n",
    "c.executemany('INSERT INTO stocks VALUES (?,?,?,?,?)', purchases)"
   ]
  },
  {
   "cell_type": "code",
   "execution_count": 11,
   "metadata": {
    "pycharm": {
     "name": "#%%\n"
    }
   },
   "outputs": [
    {
     "name": "stdout",
     "output_type": "stream",
     "text": [
      "[('2006-01-05', 'BUY', 'RHAT', 100.0, 35.14), ('2006-03-28', 'BUY', 'IBM', 1000.0, 45.0), ('2006-04-05', 'BUY', 'MSFT', 1000.0, 72.0), ('2006-04-06', 'SELL', 'IBM', 500.0, 53.0)]\n"
     ]
    }
   ],
   "source": [
    "c.execute(\"SELECT * from stocks\")\n",
    "print(c.fetchall())"
   ]
  },
  {
   "cell_type": "code",
   "execution_count": 12,
   "metadata": {
    "pycharm": {
     "name": "#%%\n"
    }
   },
   "outputs": [
    {
     "name": "stdout",
     "output_type": "stream",
     "text": [
      "('2006-01-05', 'BUY', 'RHAT', 100.0, 35.14)\n",
      "('2006-03-28', 'BUY', 'IBM', 1000.0, 45.0)\n",
      "('2006-04-06', 'SELL', 'IBM', 500.0, 53.0)\n",
      "('2006-04-05', 'BUY', 'MSFT', 1000.0, 72.0)\n"
     ]
    }
   ],
   "source": [
    "# You can iterate over the result of a select statement\n",
    "\n",
    "for row in c.execute('SELECT * FROM stocks ORDER BY price'):\n",
    "        print(row)\n",
    "        \n",
    "# Notice the ORDER BY. That is how we sort the results."
   ]
  },
  {
   "cell_type": "code",
   "execution_count": 13,
   "metadata": {},
   "outputs": [],
   "source": [
    "conn.close()"
   ]
  },
  {
   "cell_type": "markdown",
   "metadata": {},
   "source": [
    "### More SQL Syntax\n",
    "Adapted from https://www.w3schools.com/sql/"
   ]
  },
  {
   "cell_type": "code",
   "execution_count": 16,
   "metadata": {
    "pycharm": {
     "name": "#%%\n"
    }
   },
   "outputs": [
    {
     "data": {
      "text/html": [
       "<style>.container { width:100% !important; }</style>"
      ],
      "text/plain": [
       "<IPython.core.display.HTML object>"
      ]
     },
     "metadata": {},
     "output_type": "display_data"
    },
    {
     "ename": "NameError",
     "evalue": "name 'pd' is not defined",
     "output_type": "error",
     "traceback": [
      "\u001b[0;31m---------------------------------------------------------------------------\u001b[0m",
      "\u001b[0;31mNameError\u001b[0m                                 Traceback (most recent call last)",
      "Cell \u001b[0;32mIn[16], line 10\u001b[0m\n\u001b[1;32m      6\u001b[0m d \u001b[38;5;241m=\u001b[39m display(HTML(\u001b[38;5;124m\"\u001b[39m\u001b[38;5;124m<style>.container \u001b[39m\u001b[38;5;124m{\u001b[39m\u001b[38;5;124m width:100\u001b[39m\u001b[38;5;124m%\u001b[39m\u001b[38;5;124m !important; }</style>\u001b[39m\u001b[38;5;124m\"\u001b[39m))\n\u001b[1;32m      8\u001b[0m \u001b[38;5;66;03m# Make table printing more readable\u001b[39;00m\n\u001b[0;32m---> 10\u001b[0m \u001b[43mpd\u001b[49m\u001b[38;5;241m.\u001b[39mset_option(\u001b[38;5;124m'\u001b[39m\u001b[38;5;124mdisplay.width\u001b[39m\u001b[38;5;124m'\u001b[39m, \u001b[38;5;241m0\u001b[39m)\n\u001b[1;32m     11\u001b[0m pd\u001b[38;5;241m.\u001b[39mset_option(\u001b[38;5;124m'\u001b[39m\u001b[38;5;124mdisplay.max_columns\u001b[39m\u001b[38;5;124m'\u001b[39m, \u001b[38;5;28;01mNone\u001b[39;00m)\n\u001b[1;32m     14\u001b[0m \u001b[38;5;28;01mdef\u001b[39;00m \u001b[38;5;21mpprint_helper\u001b[39m(q):\n",
      "\u001b[0;31mNameError\u001b[0m: name 'pd' is not defined"
     ]
    }
   ],
   "source": [
    "# Let's create a new database\n",
    "\n",
    "import pandas as pd\n",
    "from IPython.core.display import HTML\n",
    "from IPython.display import display\n",
    "\n",
    "d = display(HTML(\"<style>.container { width:100% !important; }</style>\"))\n",
    "\n",
    "# Make table printing more readable\n",
    "\n",
    "pd.set_option('display.width', 0)\n",
    "pd.set_option('display.max_columns', None)\n",
    "\n",
    "\n",
    "def pprint_helper(q):\n",
    "    out_table = pd.read_sql_query(q, conn)\n",
    "    # Don't display any cat pics\n",
    "    dont_show = ('pic',)\n",
    "    for col in dont_show:\n",
    "        if col in out_table:\n",
    "            del out_table[col]\n",
    "    print(out_table.to_string(index=False))\n",
    "\n",
    "    \n",
    "def pprint_query(q):\n",
    "    print(q)\n",
    "    print()\n",
    "    if q.startswith(('INSERT', 'UPDATE', 'DELETE')):\n",
    "        conn.cursor().execute(q)\n",
    "        show_result = 'SELECT * FROM Customers;'\n",
    "        print(show_result)\n",
    "        print()\n",
    "        pprint_helper(show_result)\n",
    "    else:\n",
    "        pprint_helper(q)\n",
    "    \n",
    "\n",
    "# Initialize\n",
    "conn = sqlite3.connect('slides.db')\n",
    "c = conn.cursor()\n",
    "\n",
    "# Drop table\n",
    "c.execute('DROP TABLE IF EXISTS Customers')\n",
    "\n",
    "# Create table\n",
    "c.execute('''CREATE TABLE Customers\n",
    "             (CustomerID integer primary key, CustomerName text, ContactName text, Address text, City text, PostalCode text, Country text)''')\n",
    "# Insert data\n",
    "data = [\n",
    "    (1, 'Alfreds Futterkiste', 'Maria Anders', 'Obere Str. 57', 'Berlin', '12209', 'Germany'),\n",
    "    (2, 'Ana Trujillo Emparedados y helados', 'Ana Trujillo', 'Avda. de la Constitución 2222', 'México D.F.', '5021', 'Mexico'),\n",
    "    (3, 'Antonio Moreno Taquería', 'Antonio Moreno', 'Mataderos 2312', 'México D.F.', '5023', 'Mexico'),\n",
    "    (4, 'Around the Horn', 'Thomas Hardy', '120 Hanover Sq.', 'London', 'WA1 1DP', 'UK'),\n",
    "    (5, 'Berglunds snabbköp', 'Christina Berglund', 'Berguvsvägen 8', 'Luleå', 'S-958 22', 'Sweden')\n",
    "]\n",
    "c.executemany('INSERT INTO Customers VALUES (?,?,?,?,?,?,?)', data)\n",
    "conn.commit()"
   ]
  },
  {
   "cell_type": "code",
   "execution_count": null,
   "metadata": {},
   "outputs": [],
   "source": [
    "pprint_query(\"SELECT * FROM Customers;\")"
   ]
  },
  {
   "cell_type": "code",
   "execution_count": null,
   "metadata": {},
   "outputs": [],
   "source": [
    "pprint_query(\"SELECT CustomerName, City FROM Customers;\")"
   ]
  },
  {
   "cell_type": "code",
   "execution_count": null,
   "metadata": {},
   "outputs": [],
   "source": [
    "pprint_query(\"SELECT Country FROM Customers;\")"
   ]
  },
  {
   "cell_type": "code",
   "execution_count": null,
   "metadata": {},
   "outputs": [],
   "source": [
    "pprint_query(\"SELECT DISTINCT Country FROM Customers;\")"
   ]
  },
  {
   "cell_type": "code",
   "execution_count": null,
   "metadata": {},
   "outputs": [],
   "source": [
    "pprint_query(\"SELECT COUNT(DISTINCT Country) FROM Customers;\")"
   ]
  },
  {
   "cell_type": "code",
   "execution_count": null,
   "metadata": {},
   "outputs": [],
   "source": [
    "pprint_query(\"SELECT COUNT(DISTINCT Country) AS NumCountries FROM Customers;\")"
   ]
  },
  {
   "cell_type": "code",
   "execution_count": null,
   "metadata": {},
   "outputs": [],
   "source": [
    "pprint_query(\"SELECT * FROM Customers WHERE Country='Mexico';\")"
   ]
  },
  {
   "cell_type": "code",
   "execution_count": null,
   "metadata": {},
   "outputs": [],
   "source": [
    "pprint_query(\"SELECT * FROM Customers WHERE CustomerID=1;\")  # = > < >= <= != <> BETWEEN LIKE IN"
   ]
  },
  {
   "cell_type": "code",
   "execution_count": null,
   "metadata": {},
   "outputs": [],
   "source": [
    "pprint_query(\"SELECT * FROM Customers WHERE Country='Germany' AND City='Berlin';\")"
   ]
  },
  {
   "cell_type": "code",
   "execution_count": null,
   "metadata": {},
   "outputs": [],
   "source": [
    "pprint_query(\"SELECT * FROM Customers ORDER BY Country;\")"
   ]
  },
  {
   "cell_type": "code",
   "execution_count": null,
   "metadata": {},
   "outputs": [],
   "source": [
    "pprint_query(\"SELECT * FROM Customers ORDER BY Country DESC;\")"
   ]
  },
  {
   "cell_type": "code",
   "execution_count": null,
   "metadata": {},
   "outputs": [],
   "source": [
    "pprint_query(\"SELECT * FROM Customers ORDER BY Country ASC, CustomerName DESC;\")"
   ]
  },
  {
   "cell_type": "code",
   "execution_count": null,
   "metadata": {},
   "outputs": [],
   "source": [
    "pprint_query(\"\"\"INSERT INTO Customers \n",
    "                (CustomerName, ContactName, Address, City, PostalCode, Country) \n",
    "                VALUES ('Cardinal', 'Tom B. Erichsen', 'Skagen 21', 'Stavanger', '4006', 'Norway');\"\"\")"
   ]
  },
  {
   "cell_type": "code",
   "execution_count": null,
   "metadata": {
    "tags": []
   },
   "outputs": [],
   "source": [
    "pprint_query(\"\"\"INSERT INTO Customers \n",
    "                (CustomerName, ContactName) \n",
    "                VALUES ('Cardinal', 'Tom B. Erichsen');\"\"\")"
   ]
  },
  {
   "cell_type": "code",
   "execution_count": null,
   "metadata": {},
   "outputs": [],
   "source": [
    "pprint_query(\"INSERT INTO Customers (CustomerID, CustomerName, City, Country) VALUES (1, 'Cardinal', 'Stavanger', 'Norway');\")"
   ]
  },
  {
   "cell_type": "code",
   "execution_count": null,
   "metadata": {
    "tags": []
   },
   "outputs": [],
   "source": [
    "pprint_query(\"UPDATE Customers SET ContactName = 'Alfred Schmidt', City= 'Frankfurt' WHERE CustomerID = 1;\")"
   ]
  },
  {
   "cell_type": "code",
   "execution_count": null,
   "metadata": {},
   "outputs": [],
   "source": [
    "pprint_query(\"UPDATE Customers SET ContactName='Juan' WHERE Country='Mexico';\")"
   ]
  },
  {
   "cell_type": "code",
   "execution_count": null,
   "metadata": {},
   "outputs": [],
   "source": [
    "# Don't forget the WHERE!\n",
    "# pprint_query(\"UPDATE Customers SET ContactName='Juan';\")"
   ]
  },
  {
   "cell_type": "code",
   "execution_count": null,
   "metadata": {},
   "outputs": [],
   "source": [
    "pprint_query(\"DELETE FROM Customers WHERE CustomerName='Alfreds Futterkiste';\")"
   ]
  },
  {
   "cell_type": "code",
   "execution_count": null,
   "metadata": {},
   "outputs": [],
   "source": [
    "pprint_query(\"SELECT * FROM Customers LIMIT 2;\")"
   ]
  },
  {
   "cell_type": "code",
   "execution_count": null,
   "metadata": {},
   "outputs": [],
   "source": [
    "pprint_query(\"SELECT MIN(CustomerName) AS SmallestName FROM Customers;\")  # Also COUNT(), AVG(), SUM()"
   ]
  },
  {
   "cell_type": "code",
   "execution_count": null,
   "metadata": {},
   "outputs": [],
   "source": [
    "pprint_query(\"SELECT * FROM Customers WHERE CustomerName NOT LIKE 'a%';\")  # % and _ similar to * and ? for filename wildcards"
   ]
  },
  {
   "cell_type": "code",
   "execution_count": null,
   "metadata": {},
   "outputs": [],
   "source": [
    "conn.close()"
   ]
  },
  {
   "cell_type": "markdown",
   "metadata": {},
   "source": [
    "### JOIN"
   ]
  },
  {
   "cell_type": "code",
   "execution_count": null,
   "metadata": {},
   "outputs": [],
   "source": [
    "conn = sqlite3.connect('uprising.db')"
   ]
  },
  {
   "cell_type": "code",
   "execution_count": null,
   "metadata": {},
   "outputs": [],
   "source": [
    "pprint_query(\"SELECT * FROM Humans\")"
   ]
  },
  {
   "cell_type": "code",
   "execution_count": null,
   "metadata": {},
   "outputs": [],
   "source": [
    "pprint_query(\"SELECT * FROM Cats\")"
   ]
  },
  {
   "cell_type": "code",
   "execution_count": null,
   "metadata": {},
   "outputs": [],
   "source": [
    "pprint_query(\"SELECT * FROM Humans CROSS JOIN Cats;\")"
   ]
  },
  {
   "cell_type": "code",
   "execution_count": null,
   "metadata": {},
   "outputs": [],
   "source": [
    "pprint_query(\"SELECT * FROM Humans INNER JOIN Cats ON owner=Cats.id;\")  # INNER is the default"
   ]
  },
  {
   "cell_type": "code",
   "execution_count": null,
   "metadata": {
    "scrolled": true
   },
   "outputs": [],
   "source": [
    "pprint_query(\"SELECT * FROM Humans;\")\n",
    "print()\n",
    "pprint_query(\"SELECT * FROM Humans LEFT JOIN Cats ON owner=Cats.id;\")"
   ]
  },
  {
   "cell_type": "code",
   "execution_count": null,
   "metadata": {},
   "outputs": [],
   "source": [
    "pprint_query(\"SELECT * FROM Cats;\")\n",
    "print()\n",
    "pprint_query(\"SELECT * FROM Cats LEFT JOIN Humans ON owner=Cats.id;\")"
   ]
  },
  {
   "cell_type": "code",
   "execution_count": null,
   "metadata": {},
   "outputs": [],
   "source": [
    "pprint_query(\"SELECT DISTINCT Cats.name FROM Humans INNER JOIN Cats ON owner=Cats.id;\")"
   ]
  },
  {
   "cell_type": "markdown",
   "metadata": {},
   "source": [
    "### GROUP BY"
   ]
  },
  {
   "cell_type": "code",
   "execution_count": null,
   "metadata": {},
   "outputs": [],
   "source": [
    "pprint_query(\"SELECT * FROM Humans;\")\n",
    "print()\n",
    "pprint_query(\"SELECT name, count(*) FROM Humans GROUP BY name;\")"
   ]
  },
  {
   "cell_type": "code",
   "execution_count": null,
   "metadata": {},
   "outputs": [],
   "source": [
    "pprint_query(\"SELECT name, lang, count(*) FROM Humans GROUP BY name;\")  # somewhat meaningless, might produce an error"
   ]
  },
  {
   "cell_type": "code",
   "execution_count": null,
   "metadata": {},
   "outputs": [],
   "source": [
    "pprint_query(\"SELECT name, lang, count(*) FROM Humans GROUP BY name, lang;\")"
   ]
  },
  {
   "cell_type": "code",
   "execution_count": null,
   "metadata": {},
   "outputs": [],
   "source": [
    "pprint_query(\"SELECT age AS a, birthyear AS b, count(*) FROM Humans GROUP BY age, birthyear;\")"
   ]
  },
  {
   "cell_type": "markdown",
   "metadata": {},
   "source": [
    "### Nesting"
   ]
  },
  {
   "cell_type": "code",
   "execution_count": null,
   "metadata": {},
   "outputs": [],
   "source": [
    "inner_query = \"SELECT name, count(*) AS c FROM Humans GROUP BY name\" \n",
    "pprint_query(inner_query)\n",
    "print()\n",
    "pprint_query(f\"SELECT length(name) * c FROM ({inner_query});\")\n",
    "\n",
    "#pprint_query(f\"SELECT length(name) * c FROM (SELECT name, count(*) AS c FROM Humans GROUP BY name);\")"
   ]
  },
  {
   "cell_type": "markdown",
   "metadata": {},
   "source": [
    "### Views"
   ]
  },
  {
   "cell_type": "code",
   "execution_count": null,
   "metadata": {},
   "outputs": [],
   "source": [
    "conn.cursor().execute(\"DROP VIEW IF EXISTS InnerSelect;\")\n",
    "conn.cursor().execute(\"CREATE VIEW InnerSelect AS SELECT name, count(*) as c FROM Humans GROUP BY name;\")\n",
    "\n",
    "pprint_query(\"SELECT * FROM InnerSelect;\")"
   ]
  },
  {
   "cell_type": "code",
   "execution_count": null,
   "metadata": {
    "scrolled": true
   },
   "outputs": [],
   "source": [
    "pprint_query(\"SELECT length(name) * c FROM InnerSelect;\")"
   ]
  },
  {
   "cell_type": "code",
   "execution_count": null,
   "metadata": {},
   "outputs": [],
   "source": [
    "conn.close()"
   ]
  },
  {
   "cell_type": "markdown",
   "metadata": {},
   "source": [
    "### SQL Injection"
   ]
  },
  {
   "cell_type": "code",
   "execution_count": null,
   "metadata": {},
   "outputs": [],
   "source": [
    "import sqlite3\n",
    "conn = sqlite3.connect(\":memory:\")\n",
    "\n",
    "# Create table\n",
    "conn.execute('CREATE TABLE Stocks (date text, trans text, symbol text, qty real, price real)')\n",
    "# Insert a row of data\n",
    "conn.execute(\"INSERT INTO Stocks VALUES ('2006-01-05','BUY','RHAT',100,35.14)\")\n",
    "# Save (commit) the changes\n",
    "conn.commit()"
   ]
  },
  {
   "cell_type": "code",
   "execution_count": null,
   "metadata": {},
   "outputs": [],
   "source": [
    "# Print the table\n",
    "for row in conn.execute(\"SELECT * FROM Stocks\"):\n",
    "    print(row)"
   ]
  },
  {
   "cell_type": "code",
   "execution_count": null,
   "metadata": {},
   "outputs": [],
   "source": [
    "# Never do this -- insecure!\n",
    "symbol = input()\n",
    "\n",
    "# symbol = \"'; drop table Stocks; --\"\n",
    "conn.executescript(f\"SELECT * FROM Stocks WHERE symbol = '{symbol}';\")\n",
    "conn.commit()\n",
    "\n",
    "# SELECT * FROM Stocks WHERE symbol = 'RHAT'\n",
    "# SELECT * FROM Stocks WHERE symbol = ''; drop table Stocks; --'"
   ]
  },
  {
   "cell_type": "code",
   "execution_count": null,
   "metadata": {},
   "outputs": [],
   "source": [
    "# Print the table\n",
    "for row in conn.execute(\"SELECT * FROM Stocks\"):\n",
    "    print(row)"
   ]
  },
  {
   "cell_type": "code",
   "execution_count": null,
   "metadata": {},
   "outputs": [],
   "source": [
    "# Always do this!\n",
    "\n",
    "symbol = \"'; drop table stocks; --\"\n",
    "#symbol = \"RHAT\"\n",
    "\n",
    "conn.execute(\"SELECT * FROM stocks WHERE symbol=?\", (symbol, ))\n",
    "conn.commit()"
   ]
  },
  {
   "cell_type": "code",
   "execution_count": null,
   "metadata": {},
   "outputs": [],
   "source": [
    "# Print the table\n",
    "for row in conn.execute(\"SELECT * FROM Stocks\"):\n",
    "    print(row)"
   ]
  },
  {
   "cell_type": "code",
   "execution_count": null,
   "metadata": {},
   "outputs": [],
   "source": [
    "conn.close()"
   ]
  },
  {
   "cell_type": "code",
   "execution_count": null,
   "metadata": {},
   "outputs": [],
   "source": []
  }
 ],
 "metadata": {
  "kernelspec": {
   "display_name": "Python 3.11.0 64-bit",
   "language": "python",
   "name": "python3"
  },
  "language_info": {
   "codemirror_mode": {
    "name": "ipython",
    "version": 3
   },
   "file_extension": ".py",
   "mimetype": "text/x-python",
   "name": "python",
   "nbconvert_exporter": "python",
   "pygments_lexer": "ipython3",
   "version": "3.11.0"
  },
  "vscode": {
   "interpreter": {
    "hash": "aee8b7b246df8f9039afb4144a1f6fd8d2ca17a180786b69acc140d282b71a49"
   }
  }
 },
 "nbformat": 4,
 "nbformat_minor": 4
}
